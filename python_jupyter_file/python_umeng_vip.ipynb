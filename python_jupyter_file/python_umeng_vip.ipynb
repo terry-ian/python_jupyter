{
 "cells": [
  {
   "cell_type": "code",
   "execution_count": 61,
   "metadata": {},
   "outputs": [],
   "source": [
    "import aop\n",
    "import aop.api\n",
    "import json\n",
    "\n",
    "import pymysql\n",
    "import pandas as pd\n",
    "import numpy as np\n",
    "import datetime\n",
    "import time\n",
    "\n",
    "#google sheet 專用   #pip install google-api-python-client\n",
    "import string\n",
    "import pickle\n",
    "import os.path\n",
    "from googleapiclient.discovery import build\n",
    "from google_auth_oauthlib.flow import InstalledAppFlow\n",
    "from google.auth.transport.requests import Request"
   ]
  },
  {
   "cell_type": "code",
   "execution_count": 62,
   "metadata": {},
   "outputs": [],
   "source": [
    "# 時間日期設定\n",
    "today='2022-09-21'#(datetime.datetime.now() - datetime.timedelta(days=1)).strftime(\"%Y-%m-%d\") \n",
    "# 设置网关域名\n",
    "aop.set_default_server('gateway.open.umeng.com')\n",
    "# 设置apiKey和apiSecurity\n",
    "aop.set_default_appinfo(6560937, \"icwdcKfDDGY\")\n",
    "# appkey_channel\n",
    "appkey_h5_new='6320305405844627b54716ca'"
   ]
  },
  {
   "cell_type": "code",
   "execution_count": 63,
   "metadata": {},
   "outputs": [],
   "source": [
    "# 构造Request搜尋總計\n",
    "req1 = aop.api.UmengUminiGetEventOverviewRequest()\n",
    "resp1 = req1.get_response(None, timeUnit=\"day\", fromDate=today, toDate=today, eventName=\"search_total\", dataSourceId=appkey_h5_new)\n",
    "\n",
    "# 构造Request成功搜尋次數\n",
    "req2 = aop.api.UmengUminiGetEventOverviewRequest()\n",
    "resp2 = req2.get_response(None, timeUnit=\"day\", fromDate=today, toDate=today, eventName=\"search_success\", dataSourceId=appkey_h5_new)"
   ]
  },
  {
   "cell_type": "code",
   "execution_count": 64,
   "metadata": {},
   "outputs": [],
   "source": [
    "resp1_evevt=pd.DataFrame(resp1['data']['data'])\n",
    "resp1_evevt['eventname']='搜尋總計'\n",
    "resp1_evevt=resp1_evevt[['dateTime','eventname','count','device']]\n",
    "\n",
    "resp2_evevt=pd.DataFrame(resp2['data']['data'])\n",
    "resp2_evevt['eventname']='成功搜尋次數'\n",
    "resp2_evevt=resp2_evevt[['dateTime','eventname','count','device']]\n",
    "\n",
    "#合併事件\n",
    "dd_event=resp1_evevt.append(resp2_evevt)"
   ]
  },
  {
   "cell_type": "code",
   "execution_count": 65,
   "metadata": {},
   "outputs": [],
   "source": [
    "# If modifying these scopes, delete the file token.pickle.\n",
    "SCOPES = ['https://www.googleapis.com/auth/analytics.readonly',\n",
    "      'https://www.googleapis.com/auth/drive',\n",
    "      'https://www.googleapis.com/auth/spreadsheets']\n",
    "creds = None\n",
    "if os.path.exists('token.pickle'):\n",
    "    with open('token.pickle', 'rb') as token:\n",
    "        creds = pickle.load(token)\n",
    "# If there are no (valid) credentials available, let the user log in.\n",
    "if not creds or not creds.valid:\n",
    "    if creds and creds.expired and creds.refresh_token:\n",
    "        creds.refresh(Request())\n",
    "    else:\n",
    "        flow = InstalledAppFlow.from_client_secrets_file(\n",
    "            'credentials.json', SCOPES)\n",
    "        creds = flow.run_local_server(port=0)\n",
    "    # Save the credentials for the next run\n",
    "    with open('token.pickle', 'wb') as token:\n",
    "        pickle.dump(creds, token)\n",
    "service = build('sheets', 'v4', credentials=creds)\n",
    "# Call the Sheets API\n",
    "sheet = service.spreadsheets()\n",
    "\n",
    "#寫入 data 進入 google sheet #美東時間\n",
    "def insert_data(value_range_body,sheetname,colname1,colname2,col1,col2) :\n",
    "    SAMPLE_RANGE_NAME = str(sheetname)+'!'+colname1+str(col1)+':'+colname2+str(col2)\n",
    "    request= sheet.values().update(spreadsheetId=SAMPLE_SPREADSHEET_ID,valueInputOption='USER_ENTERED',range=SAMPLE_RANGE_NAME , body=value_range_body).execute()\n",
    "def google_sheet_insert_data(sheet_name,data,SAMPLE_SPREADSHEET_ID) : \n",
    "    #查詢目前使用到維度\n",
    "    SAMPLE_RANGE_NAME = sheet_name+'!A1:A60000'\n",
    "    result_index = sheet.values().get(spreadsheetId=SAMPLE_SPREADSHEET_ID, range=SAMPLE_RANGE_NAME).execute()\n",
    "    insert_row=len(result_index.get('values'))+1\n",
    "    #遊戲驗證\n",
    "    value_range_body = {\"majorDimension\":\"ROWS\",\"values\": data.values.tolist() }\n",
    "    insert_data(value_range_body,sheet_name,'A','D',insert_row,insert_row+10)"
   ]
  },
  {
   "cell_type": "code",
   "execution_count": 66,
   "metadata": {},
   "outputs": [],
   "source": [
    "SAMPLE_SPREADSHEET_ID = '1nVa7_RQ3QIxzepd3usKqm5BU7C567L4Sb5ZzoZCCmV8'\n",
    "google_sheet_insert_data('友盟VIP数据',dd_event,SAMPLE_SPREADSHEET_ID)"
   ]
  },
  {
   "cell_type": "code",
   "execution_count": null,
   "metadata": {},
   "outputs": [],
   "source": []
  }
 ],
 "metadata": {
  "kernelspec": {
   "display_name": "Python 3",
   "language": "python",
   "name": "python3"
  },
  "language_info": {
   "codemirror_mode": {
    "name": "ipython",
    "version": 3
   },
   "file_extension": ".py",
   "mimetype": "text/x-python",
   "name": "python",
   "nbconvert_exporter": "python",
   "pygments_lexer": "ipython3",
   "version": "3.8.5"
  }
 },
 "nbformat": 4,
 "nbformat_minor": 4
}
