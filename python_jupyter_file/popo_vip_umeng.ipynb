{
 "cells": [
  {
   "cell_type": "code",
   "execution_count": 1,
   "metadata": {},
   "outputs": [],
   "source": [
    "import aop\n",
    "import aop.api\n",
    "import json\n",
    "import time\n",
    "\n",
    "import pymysql\n",
    "import pandas as pd\n",
    "import numpy as np\n",
    "import datetime\n",
    "from urllib.parse import unquote\n",
    "\n",
    "#google sheet 專用   #pip install google-api-python-client\n",
    "import string\n",
    "import pickle\n",
    "import os.path\n",
    "from googleapiclient.discovery import build\n",
    "from google_auth_oauthlib.flow import InstalledAppFlow\n",
    "from google.auth.transport.requests import Request"
   ]
  },
  {
   "cell_type": "code",
   "execution_count": 12,
   "metadata": {},
   "outputs": [],
   "source": [
    "# 時間日期設定\n",
    "today=(datetime.datetime.now() - datetime.timedelta(days=0)).strftime(\"%Y-%m-%d\") \n",
    "# 存檔案路徑\n",
    "downloadpath='//navdi/DEM_UserData/btorin/Desktop/download_csv/'\n",
    "# 设置网关域名\n",
    "aop.set_default_server('gateway.open.umeng.com')\n",
    "# 设置apiKey和apiSecurity\n",
    "aop.set_default_appinfo(6560937, \"icwdcKfDDGY\")\n",
    "# appkey_channel\n",
    "appkey_h5_new='6320305405844627b54716ca'"
   ]
  },
  {
   "cell_type": "code",
   "execution_count": 13,
   "metadata": {},
   "outputs": [],
   "source": [
    "#統計啟動次數 活躍 新增\n",
    "req = aop.api.UmengUminiGetOverviewRequest()\n",
    "resp_count = req.get_response(None, dataSourceId=appkey_h5_new, fromDate=today, toDate=today, timeUnit=\"day\", indicators=\"visitTimes\", pageIndex=1, pageSize=1)\n",
    "resp_active = req.get_response(None, dataSourceId=appkey_h5_new, fromDate=today, toDate=today, timeUnit=\"day\", indicators=\"activeUser\", pageIndex=1, pageSize=1)\n",
    "resp_new = req.get_response(None, dataSourceId=appkey_h5_new, fromDate=today, toDate=today, timeUnit=\"day\", indicators=\"newUser\", pageIndex=1, pageSize=1)\n",
    "#轉換\n",
    "resp_count=resp_count['data']['data'][0]  ; resp_active=resp_active['data']['data'][0]  ; resp_new=resp_new['data']['data'][0]\n",
    "resp_count[\"value\"] = resp_count.pop(\"visitTimes\")  ;resp_active[\"value\"] = resp_active.pop(\"activeUser\")  ; resp_new[\"value\"] = resp_new.pop(\"newUser\")\n",
    "resp_total=[resp_count,resp_active,resp_new]\n",
    "resp_total=pd.DataFrame(resp_total)\n",
    "resp_total['item']=['启动次数','活跃会员','新增用户']\n",
    "resp_total['device']='H5'\n",
    "dd_data_h5=resp_total[['dateTime','device','item','value']]\n",
    "dd_data_h5.columns=['date','device','item','value']"
   ]
  },
  {
   "cell_type": "code",
   "execution_count": 40,
   "metadata": {},
   "outputs": [],
   "source": [
    "#事件點擊 統計\n",
    "req1 = aop.api.UmengUminiGetEventOverviewRequest()\n",
    "resp1 = req1.get_response(None, timeUnit=\"day\", fromDate=today, toDate=today, eventName=\"search_total\", dataSourceId=appkey_h5_new)\n",
    "resp1_data=pd.DataFrame(resp1['data']['data'][0] , index=[0])\n",
    "resp1_data['eventname']='搜尋總計'\n",
    "\n",
    "req2 = aop.api.UmengUminiGetEventOverviewRequest()\n",
    "resp2 = req2.get_response(None, timeUnit=\"day\", fromDate=today, toDate=today, eventName=\"search_success\", dataSourceId=appkey_h5_new)\n",
    "resp2_data=pd.DataFrame(resp2['data']['data'][0] , index=[0])\n",
    "resp2_data['eventname']='成功搜尋次數'\n",
    "\n",
    "#合併\n",
    "resp_data_total=resp1_data.append(resp2_data)"
   ]
  },
  {
   "cell_type": "code",
   "execution_count": 46,
   "metadata": {},
   "outputs": [
    {
     "data": {
      "text/html": [
       "<div>\n",
       "<style scoped>\n",
       "    .dataframe tbody tr th:only-of-type {\n",
       "        vertical-align: middle;\n",
       "    }\n",
       "\n",
       "    .dataframe tbody tr th {\n",
       "        vertical-align: top;\n",
       "    }\n",
       "\n",
       "    .dataframe thead th {\n",
       "        text-align: right;\n",
       "    }\n",
       "</style>\n",
       "<table border=\"1\" class=\"dataframe\">\n",
       "  <thead>\n",
       "    <tr style=\"text-align: right;\">\n",
       "      <th></th>\n",
       "      <th>dateTime</th>\n",
       "      <th>count</th>\n",
       "      <th>device</th>\n",
       "      <th>eventname</th>\n",
       "    </tr>\n",
       "  </thead>\n",
       "  <tbody>\n",
       "    <tr>\n",
       "      <th>0</th>\n",
       "      <td>2022-09-15</td>\n",
       "      <td>9</td>\n",
       "      <td>7</td>\n",
       "      <td>搜尋總計</td>\n",
       "    </tr>\n",
       "    <tr>\n",
       "      <th>0</th>\n",
       "      <td>2022-09-15</td>\n",
       "      <td>5</td>\n",
       "      <td>4</td>\n",
       "      <td>成功搜尋次數</td>\n",
       "    </tr>\n",
       "  </tbody>\n",
       "</table>\n",
       "</div>"
      ],
      "text/plain": [
       "     dateTime  count  device eventname\n",
       "0  2022-09-15      9       7      搜尋總計\n",
       "0  2022-09-15      5       4    成功搜尋次數"
      ]
     },
     "execution_count": 46,
     "metadata": {},
     "output_type": "execute_result"
    }
   ],
   "source": [
    "resp_data_total"
   ]
  },
  {
   "cell_type": "markdown",
   "metadata": {},
   "source": [
    "#  寫入雲端表格"
   ]
  },
  {
   "cell_type": "code",
   "execution_count": 448,
   "metadata": {},
   "outputs": [],
   "source": [
    "# If modifying these scopes, delete the file token.pickle.\n",
    "SCOPES = ['https://www.googleapis.com/auth/analytics.readonly',\n",
    "      'https://www.googleapis.com/auth/drive',\n",
    "      'https://www.googleapis.com/auth/spreadsheets']\n",
    "creds = None\n",
    "if os.path.exists('token.pickle'):\n",
    "    with open('token.pickle', 'rb') as token:\n",
    "        creds = pickle.load(token)\n",
    "# If there are no (valid) credentials available, let the user log in.\n",
    "if not creds or not creds.valid:\n",
    "    if creds and creds.expired and creds.refresh_token:\n",
    "        creds.refresh(Request())\n",
    "    else:\n",
    "        flow = InstalledAppFlow.from_client_secrets_file(\n",
    "            'credentials.json', SCOPES)\n",
    "        creds = flow.run_local_server(port=0)\n",
    "    # Save the credentials for the next run\n",
    "    with open('token.pickle', 'wb') as token:\n",
    "        pickle.dump(creds, token)\n",
    "service = build('sheets', 'v4', credentials=creds)\n",
    "# Call the Sheets API\n",
    "sheet = service.spreadsheets()\n",
    "\n",
    "#寫入 data 進入 google sheet #美東時間\n",
    "def insert_data(value_range_body,sheetname,colname1,colname2,col1,col2) :\n",
    "    SAMPLE_RANGE_NAME = str(sheetname)+'!'+colname1+str(col1)+':'+colname2+str(col2)\n",
    "    request= sheet.values().update(spreadsheetId=SAMPLE_SPREADSHEET_ID,valueInputOption='USER_ENTERED',range=SAMPLE_RANGE_NAME , body=value_range_body).execute()\n",
    "def google_sheet_insert_data(sheet_name,data,SAMPLE_SPREADSHEET_ID) : \n",
    "    #查詢目前使用到維度\n",
    "    SAMPLE_RANGE_NAME = sheet_name+'!A1:A30000'\n",
    "    result_index = sheet.values().get(spreadsheetId=SAMPLE_SPREADSHEET_ID, range=SAMPLE_RANGE_NAME).execute()\n",
    "    insert_row=len(result_index.get('values'))+1\n",
    "    #遊戲驗證\n",
    "    value_range_body = {\"majorDimension\":\"ROWS\",\"values\": data.values.tolist() }\n",
    "    insert_data(value_range_body,sheet_name,'A','D',insert_row,insert_row+50)\n",
    "    \n",
    "def google_sheet_insert_data_event(sheet_name,data,SAMPLE_SPREADSHEET_ID) : \n",
    "    #查詢目前使用到維度\n",
    "    SAMPLE_RANGE_NAME = sheet_name+'!A1:A70000'\n",
    "    result_index = sheet.values().get(spreadsheetId=SAMPLE_SPREADSHEET_ID, range=SAMPLE_RANGE_NAME).execute()\n",
    "    insert_row=len(result_index.get('values'))+1\n",
    "    #遊戲驗證\n",
    "    value_range_body = {\"majorDimension\":\"ROWS\",\"values\": data.values.tolist() }\n",
    "    insert_data(value_range_body,sheet_name,'A','E',insert_row,insert_row+500)"
   ]
  },
  {
   "cell_type": "code",
   "execution_count": 449,
   "metadata": {},
   "outputs": [],
   "source": [
    "#流量數據\n",
    "SAMPLE_SPREADSHEET_ID = '14OR2-WaGLyZfFpMWbxs_g7sureaZYxCb0XKKMmpMZpU'\n",
    "google_sheet_insert_data('會員數據',dd_data,SAMPLE_SPREADSHEET_ID)\n",
    "#外層事件數據\n",
    "google_sheet_insert_data_event('外层事件',dd_event1,SAMPLE_SPREADSHEET_ID)\n"
   ]
  },
  {
   "cell_type": "code",
   "execution_count": null,
   "metadata": {},
   "outputs": [],
   "source": []
  }
 ],
 "metadata": {
  "kernelspec": {
   "display_name": "Python 3",
   "language": "python",
   "name": "python3"
  },
  "language_info": {
   "codemirror_mode": {
    "name": "ipython",
    "version": 3
   },
   "file_extension": ".py",
   "mimetype": "text/x-python",
   "name": "python",
   "nbconvert_exporter": "python",
   "pygments_lexer": "ipython3",
   "version": "3.8.5"
  }
 },
 "nbformat": 4,
 "nbformat_minor": 4
}
