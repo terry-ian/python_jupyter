{
 "cells": [
  {
   "cell_type": "code",
   "execution_count": 25,
   "metadata": {},
   "outputs": [],
   "source": [
    "import requests\n",
    "import json\n",
    "import pandas as pd\n",
    "import numpy as np\n",
    "import datetime\n",
    "import re\n",
    "\n",
    "import string\n",
    "import pickle\n",
    "import os.path\n",
    "from googleapiclient.discovery import build\n",
    "from google_auth_oauthlib.flow import InstalledAppFlow\n",
    "from google.auth.transport.requests import Request\n",
    "pd.set_option('display.float_format',lambda x : '%.4f' % x)"
   ]
  },
  {
   "cell_type": "code",
   "execution_count": 26,
   "metadata": {},
   "outputs": [],
   "source": [
    "#時間日期設定\n",
    "ddd=(datetime.datetime.now() - datetime.timedelta(days=1)).strftime(\"%Y%m%d\") \n",
    "ddd2=(datetime.datetime.now() - datetime.timedelta(days=1)).strftime(\"%Y-%m-%d\") \n",
    "#downloadpath='//navdi/DEM_UserData/btorin/Desktop/download_csv/'"
   ]
  },
  {
   "cell_type": "code",
   "execution_count": 34,
   "metadata": {},
   "outputs": [],
   "source": [
    "#抓出線下所有數據\n",
    "headers = {'User-Agent': 'Mozilla/5.0 (Windows NT 10.0; Win64; x64) AppleWebKit/537.36 (KHTML, like Gecko) Chrome/84.0.4147.89 Safari/537.36'}\n",
    "payload = {\"header\":{\"username\": \"newpopo\",\"password\": \"Po774949\",\"token\": \"84f617e63137ccc5cf246f4ac6a1d3b8\",\"account_type\": '1'}}\n",
    "session_requests = requests.session()\n",
    "response_baidu_list = session_requests.request('post',url= \"https://api.baidu.com/json/tongji/v1/ReportService/getSiteList\" , data=json.dumps(payload),headers=headers)\n",
    "response_baidu_list=response_baidu_list.json()['body']['data'][0]['list']\n",
    "response_baidu_list=pd.DataFrame(response_baidu_list)[['create_time','domain','site_id']]"
   ]
  },
  {
   "cell_type": "code",
   "execution_count": 35,
   "metadata": {},
   "outputs": [],
   "source": [
    "response_baidu_list=response_baidu_list.iloc[[1]]\n",
    "response_baidu_list.reset_index(inplace=True, drop=True)"
   ]
  },
  {
   "cell_type": "code",
   "execution_count": 63,
   "metadata": {},
   "outputs": [],
   "source": [
    "df_pd_data_url=pd.DataFrame(columns=['pageId','name','PV','UV','ip_count','AV','domain'])\n",
    "for j in range(len(response_baidu_list)):\n",
    "    payload = {\"header\":{\"username\": \"newpopo\",\"password\": \"Po774949\",\"token\": \"84f617e63137ccc5cf246f4ac6a1d3b8\",\"account_type\": '1'},\n",
    "              \"body\": {\"site_id\": str(response_baidu_list.loc[j,'site_id']),\"start_date\": ddd,\"end_date\": ddd,\"metrics\": \"pv_count,visitor_count,ip_count,average_stay_time\",\"method\": \"visit/toppage/a\",\"max_results\": \"1000\"}}\n",
    "    response_baidu_url = session_requests.request('post',url= \"https://api.baidu.com/json/tongji/v1/ReportService/getData\" , data=json.dumps(payload),headers=headers)\n",
    "    response_baidu_url=response_baidu_url.json()['body']['data'][0]['result']['items']\n",
    "    #scrape diff data\n",
    "    pd_data_url=pd.DataFrame(columns=['pageId','name'])\n",
    "    for i in range(len(response_baidu_url[0])) :\n",
    "        name_data=pd.DataFrame(response_baidu_url[0][i])[['pageId','name']]\n",
    "        pd_data_url=pd_data_url.append(name_data)\n",
    "    pd_data_url=pd_data_url.reset_index(drop=True)\n",
    "    pd_data_url[['PV','UV','ip_count','AV']]=pd.DataFrame(response_baidu_url[1],columns=['PV','UV','ip_count','AV'])\n",
    "    pd_data_url['domain']=response_baidu_list.loc[j,'domain']\n",
    "    df_pd_data_url=df_pd_data_url.append(pd_data_url)\n",
    "    df_pd_data_url=df_pd_data_url.reset_index(drop=True)"
   ]
  },
  {
   "cell_type": "code",
   "execution_count": 64,
   "metadata": {},
   "outputs": [],
   "source": [
    "df_pd_data_url['date']=ddd2\n",
    "df_pd_data_url['domain_sub']=[x.split('.com')[0]+str('.com') for x in df_pd_data_url['name'] ]\n",
    "final_data=df_pd_data_url[['date','domain','domain_sub','name','PV','UV','ip_count','AV']]"
   ]
  },
  {
   "cell_type": "code",
   "execution_count": null,
   "metadata": {},
   "outputs": [],
   "source": []
  },
  {
   "cell_type": "code",
   "execution_count": 66,
   "metadata": {},
   "outputs": [],
   "source": [
    "# If modifying these scopes, delete the file token.pickle.\n",
    "SCOPES = ['https://www.googleapis.com/auth/analytics.readonly',\n",
    "      'https://www.googleapis.com/auth/drive',\n",
    "      'https://www.googleapis.com/auth/spreadsheets']\n",
    "creds = None\n",
    "if os.path.exists('token.pickle'):\n",
    "    with open('token.pickle', 'rb') as token:\n",
    "        creds = pickle.load(token)\n",
    "# If there are no (valid) credentials available, let the user log in.\n",
    "if not creds or not creds.valid:\n",
    "    if creds and creds.expired and creds.refresh_token:\n",
    "        creds.refresh(Request())\n",
    "    else:\n",
    "        flow = InstalledAppFlow.from_client_secrets_file(\n",
    "            'credentials.json', SCOPES)\n",
    "        creds = flow.run_local_server(port=0)\n",
    "    # Save the credentials for the next run\n",
    "    with open('token.pickle', 'wb') as token:\n",
    "        pickle.dump(creds, token)\n",
    "service = build('sheets', 'v4', credentials=creds)\n",
    "# Call the Sheets API\n",
    "sheet = service.spreadsheets()\n",
    "\n",
    "#寫入 data 進入 google sheet #美東時間\n",
    "def insert_data(value_range_body,sheetname,colname1,colname2,col1,col2) :\n",
    "    SAMPLE_RANGE_NAME = str(sheetname)+'!'+colname1+str(col1)+':'+colname2+str(col2)\n",
    "    request= sheet.values().update(spreadsheetId=SAMPLE_SPREADSHEET_ID,valueInputOption='USER_ENTERED',range=SAMPLE_RANGE_NAME , body=value_range_body).execute()\n",
    "def google_sheet_insert_data(sheet_name,data,SAMPLE_SPREADSHEET_ID) : \n",
    "    #查詢目前使用到維度\n",
    "    SAMPLE_RANGE_NAME = sheet_name+'!A1:A70000'\n",
    "    result_index = sheet.values().get(spreadsheetId=SAMPLE_SPREADSHEET_ID, range=SAMPLE_RANGE_NAME).execute()\n",
    "    insert_row=len(result_index.get('values'))+1\n",
    "    #遊戲驗證\n",
    "    value_range_body = {\"majorDimension\":\"ROWS\",\"values\": data.values.tolist() }\n",
    "    insert_data(value_range_body,sheet_name,'A','H',insert_row,insert_row+1000)\n",
    "    \n",
    "#Boin data insert\n",
    "SAMPLE_SPREADSHEET_ID = '1ju3TV2MrFW8_xUSvIt62YbXNc7n5JkodAO3ATT1VdD0'\n",
    "google_sheet_insert_data('豆豆百度数据',final_data,SAMPLE_SPREADSHEET_ID)"
   ]
  },
  {
   "cell_type": "code",
   "execution_count": null,
   "metadata": {},
   "outputs": [],
   "source": []
  },
  {
   "cell_type": "code",
   "execution_count": null,
   "metadata": {},
   "outputs": [],
   "source": [
    "#df_pd_data_search=pd.DataFrame(columns=['keywordId','name','PV','UV','domain'])\n",
    "#for j in range(len(response_baidu_list)):\n",
    "#    payload = {\"header\":{\"username\": \"newpopo\",\"password\": \"Po774949\",\"token\": \"84f617e63137ccc5cf246f4ac6a1d3b8\",\"account_type\": '1'},\n",
    "#              \"body\": {\"site_id\": str(response_baidu_list.loc[j,'site_id']),\"start_date\": ddd,\"end_date\": ddd,\"metrics\": \"pv_count,visitor_count\",\"method\": \"source/searchword/a\"}}\n",
    "#    response_baidu_searchword = session_requests.request('post',url= \"https://api.baidu.com/json/tongji/v1/ReportService/getData\" , data=json.dumps(payload),headers=headers)\n",
    "#    response_baidu_searchword=response_baidu_searchword.json()['body']['data'][0]['result']['items']\n",
    "#    #scrape diff data\n",
    "#    pd_data_search=pd.DataFrame(columns=['keywordId','name'])\n",
    "#    for i in range(len(response_baidu_searchword[0])) :\n",
    "#        name_data=pd.DataFrame(response_baidu_searchword[0][i])[['keywordId','name']]\n",
    "#        pd_data_search=pd_data_search.append(name_data)\n",
    "#    pd_data_search=pd_data_search.reset_index(drop=True)\n",
    "#    pd_data_search[['PV','UV']]=pd.DataFrame(response_baidu_searchword[1],columns=['PV','UV'])\n",
    "#    pd_data_search['domain']=response_baidu_list.loc[j,'domain']\n",
    "#    df_pd_data_search=df_pd_data_search.append(pd_data_search)\n",
    "#    df_pd_data_search=df_pd_data_search.reset_index(drop=True)\n",
    "#df_pd_data_search[df_pd_data_search['PV'] >5].sort_values(by=['UV'],ascending=False)"
   ]
  }
 ],
 "metadata": {
  "kernelspec": {
   "display_name": "Python 3",
   "language": "python",
   "name": "python3"
  },
  "language_info": {
   "codemirror_mode": {
    "name": "ipython",
    "version": 3
   },
   "file_extension": ".py",
   "mimetype": "text/x-python",
   "name": "python",
   "nbconvert_exporter": "python",
   "pygments_lexer": "ipython3",
   "version": "3.8.5"
  }
 },
 "nbformat": 4,
 "nbformat_minor": 4
}
