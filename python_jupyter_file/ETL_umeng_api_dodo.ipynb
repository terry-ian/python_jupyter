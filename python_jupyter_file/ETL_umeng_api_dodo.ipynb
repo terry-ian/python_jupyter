{
 "cells": [
  {
   "cell_type": "code",
   "execution_count": 441,
   "metadata": {},
   "outputs": [],
   "source": [
    "import aop\n",
    "import aop.api\n",
    "import json\n",
    "import time\n",
    "\n",
    "import pymysql\n",
    "import pandas as pd\n",
    "import numpy as np\n",
    "import datetime\n",
    "from urllib.parse import unquote\n",
    "\n",
    "#google sheet 專用   #pip install google-api-python-client\n",
    "import string\n",
    "import pickle\n",
    "import os.path\n",
    "from googleapiclient.discovery import build\n",
    "from google_auth_oauthlib.flow import InstalledAppFlow\n",
    "from google.auth.transport.requests import Request"
   ]
  },
  {
   "cell_type": "code",
   "execution_count": 442,
   "metadata": {},
   "outputs": [],
   "source": [
    "# 時間日期設定\n",
    "today=(datetime.datetime.now() - datetime.timedelta(days=1)).strftime(\"%Y-%m-%d\") \n",
    "# 存檔案路徑\n",
    "downloadpath='//navdi/DEM_UserData/btorin/Desktop/download_csv/'\n",
    "# 设置网关域名\n",
    "aop.set_default_server('gateway.open.umeng.com')\n",
    "# 设置apiKey和apiSecurity\n",
    "aop.set_default_appinfo(9048862, \"76wqCO5k9U\")\n",
    "# appkey_channel \n",
    "appkey_h5_new='62b2ca6788ccdf4b7ea5fb49'\n",
    "appkey_app_new='62d8f1cd88ccdf4b7ed9b9f3'"
   ]
  },
  {
   "cell_type": "markdown",
   "metadata": {},
   "source": [
    "# H5 DATA"
   ]
  },
  {
   "cell_type": "code",
   "execution_count": 443,
   "metadata": {},
   "outputs": [],
   "source": [
    "req = aop.api.UmengUminiGetOverviewRequest()\n",
    "resp_count = req.get_response(None, dataSourceId=appkey_h5_new, fromDate=today, toDate=today, timeUnit=\"day\", indicators=\"visitTimes\", pageIndex=1, pageSize=1)\n",
    "resp_active = req.get_response(None, dataSourceId=appkey_h5_new, fromDate=today, toDate=today, timeUnit=\"day\", indicators=\"activeUser\", pageIndex=1, pageSize=1)\n",
    "resp_new = req.get_response(None, dataSourceId=appkey_h5_new, fromDate=today, toDate=today, timeUnit=\"day\", indicators=\"newUser\", pageIndex=1, pageSize=1)\n",
    "#轉換\n",
    "resp_count=resp_count['data']['data'][0]  ; resp_active=resp_active['data']['data'][0]  ; resp_new=resp_new['data']['data'][0]\n",
    "resp_count[\"value\"] = resp_count.pop(\"visitTimes\")  ;resp_active[\"value\"] = resp_active.pop(\"activeUser\")  ; resp_new[\"value\"] = resp_new.pop(\"newUser\")\n",
    "resp_total=[resp_count,resp_active,resp_new]\n",
    "resp_total=pd.DataFrame(resp_total)\n",
    "resp_total['item']=['启动次数','活跃会员','新增用户']\n",
    "resp_total['device']='H5'\n",
    "dd_data_h5=resp_total[['dateTime','device','item','value']]\n",
    "dd_data_h5.columns=['date','device','item','value']"
   ]
  },
  {
   "cell_type": "code",
   "execution_count": 444,
   "metadata": {},
   "outputs": [],
   "source": [
    "#外層事件\n",
    "req1 = aop.api.UmengUminiGetAllPropertyValueCountRequest()\n",
    "resp1 = req1.get_response(None, timeUnit=\"day\", fromDate=today, toDate=today, propertyName=\"category\", pageIndex=1, pageSize=100, eventName=\"click\", dataSourceId=appkey_h5_new) \n",
    "resp1_evevt=pd.DataFrame(resp1['data']['data'])\n",
    "resp1_evevt['date']=today ;resp1_evevt['device']='H5'\n",
    "resp1_evevt=resp1_evevt[['date','device','propertyValue','count','countRatio']]\n",
    "#內層事件\n",
    "req2 = aop.api.UmengUminiGetAllPropertyValueCountRequest()\n",
    "resp2 = req2.get_response(None, timeUnit=\"day\", fromDate=today, toDate=today, propertyName=\"label\", pageIndex=1, pageSize=100, eventName=\"click\", dataSourceId=appkey_h5_new)  \n",
    "resp2_evevt=pd.DataFrame(resp2['data']['data'])\n",
    "resp2_evevt['date']=today ;resp2_evevt['device']='H5'\n",
    "resp2_evevt=resp2_evevt[['date','device','propertyValue','count','countRatio']]\n",
    "#搜尋事件\n",
    "req3 = aop.api.UmengUminiGetAllPropertyValueCountRequest()\n",
    "resp3 = req3.get_response(None, timeUnit=\"day\", fromDate=today, toDate=today, propertyName=\"value\", pageIndex=1, pageSize=100, eventName=\"search\", dataSourceId=appkey_h5_new)  \n",
    "resp3_evevt=pd.DataFrame(resp3['data']['data'])\n",
    "resp3_evevt['date']=today ;resp3_evevt['device']='H5'\n",
    "resp3_evevt=resp3_evevt[['date','device','propertyValue','count','countRatio']]\n",
    "#影片點擊\n",
    "req4 = aop.api.UmengUminiGetAllPropertyValueCountRequest()\n",
    "resp4 = req4.get_response(None, timeUnit=\"day\", fromDate=today, toDate=today, propertyName=\"from_video\", pageIndex=1, pageSize=200, eventName=\"watch\", dataSourceId=appkey_h5_new)  \n",
    "resp4_evevt=pd.DataFrame(resp4['data']['data'])\n",
    "resp4_evevt['date']=today ;resp4_evevt['device']='H5'\n",
    "resp4_evevt=resp4_evevt[['date','device','propertyValue','count','countRatio']]"
   ]
  },
  {
   "cell_type": "markdown",
   "metadata": {},
   "source": [
    "# APP DATA"
   ]
  },
  {
   "cell_type": "code",
   "execution_count": 445,
   "metadata": {},
   "outputs": [],
   "source": [
    "req = aop.api.UmengUappGetLaunchesByChannelOrVersionRequest()\n",
    "resp_count = req.get_response(None, appkey=appkey_app_new, startDate=today, endDate=today, periodType=\"daily\", channels=\"\", versions=\"\")\n",
    "# 发起Api请求 活躍會員\n",
    "req = aop.api.UmengUappGetActiveUsersByChannelOrVersionRequest()\n",
    "resp_active = req.get_response(None, appkey=appkey_app_new, startDate=today, endDate=today, periodType=\"daily\", channels=\"\", versions=\"\")\n",
    "# 发起Api请求 新增用戶數\n",
    "req = aop.api.UmengUappGetNewUsersByChannelOrVersionRequest()\n",
    "resp_new = req.get_response(None, appkey=appkey_app_new, startDate=today, endDate=today, periodType=\"daily\", channels=\"\", versions=\"\")\n",
    "resp_total=resp_count['launchInfo']+resp_active['activeUserInfo']+resp_new['newUserInfo']\n",
    "resp_total=pd.DataFrame(resp_total)\n",
    "resp_total['item']=['启动次数','活跃会员','新增用户']\n",
    "resp_total['device']='APP'\n",
    "dd_data_app=resp_total[['date','device','item','value']]"
   ]
  },
  {
   "cell_type": "code",
   "execution_count": 446,
   "metadata": {},
   "outputs": [],
   "source": [
    "# 外層事件\n",
    "req = aop.api.UmengUappEventParamGetValueListRequest()\n",
    "resp = req.get_response(None, appkey=appkey_app_new, startDate=today, endDate=today, eventName=\"click\", eventParamName=\"category\")\n",
    "test_cc1=pd.DataFrame(resp['paramInfos'])\n",
    "test_cc1['name_c'] = test_cc1.apply(lambda row : unquote(row['name']), axis = 1)\n",
    "test_cc1.columns=['name','count','countRatio','propertyValue']\n",
    "test_cc1['date']=today ;test_cc1['device']='APP'\n",
    "test_cc1=test_cc1[['date','device','propertyValue','count','countRatio']]\n",
    "test_cc1=test_cc1.head(100)\n",
    "# 內層事件\n",
    "req = aop.api.UmengUappEventParamGetValueListRequest()\n",
    "resp = req.get_response(None, appkey=appkey_app_new, startDate=today, endDate=today, eventName=\"click\", eventParamName=\"label\")\n",
    "test_cc2=pd.DataFrame(resp['paramInfos'])\n",
    "test_cc2['name_c'] = test_cc2.apply(lambda row : unquote(row['name']), axis = 1)\n",
    "test_cc2.columns=['name','count','countRatio','propertyValue']\n",
    "test_cc2['date']=today ;test_cc2['device']='APP'\n",
    "test_cc2=test_cc2[['date','device','propertyValue','count','countRatio']]\n",
    "test_cc2=test_cc2.head(100)\n",
    "# 搜尋詞彙\n",
    "req = aop.api.UmengUappEventParamGetValueListRequest()\n",
    "resp = req.get_response(None, appkey=appkey_app_new, startDate=today, endDate=today, eventName=\"search\", eventParamName=\"value\")\n",
    "test_cc3=pd.DataFrame(resp['paramInfos'])\n",
    "test_cc3['name_c'] = test_cc3.apply(lambda row : unquote(row['name']), axis = 1)\n",
    "test_cc3.columns=['name','count','countRatio','propertyValue']\n",
    "test_cc3['date']=today ;test_cc3['device']='APP'\n",
    "test_cc3=test_cc3[['date','device','propertyValue','count','countRatio']]\n",
    "test_cc3=test_cc3.head(100)\n",
    "#觀看影片\n",
    "req = aop.api.UmengUappEventParamGetValueListRequest()\n",
    "resp = req.get_response(None, appkey=appkey_app_new, startDate=today, endDate=today, eventName=\"watch\", eventParamName=\"from_video\")\n",
    "test_cc4=pd.DataFrame(resp['paramInfos'])\n",
    "test_cc4['name_c'] = test_cc4.apply(lambda row : unquote(row['name']), axis = 1)\n",
    "test_cc4.columns=['name','count','countRatio','propertyValue']\n",
    "test_cc4['date']=today ;test_cc4['device']='APP'\n",
    "test_cc4=test_cc4[['date','device','propertyValue','count','countRatio']]\n",
    "test_cc4=test_cc4.head(200)"
   ]
  },
  {
   "cell_type": "markdown",
   "metadata": {},
   "source": [
    "# Merge h5 app"
   ]
  },
  {
   "cell_type": "code",
   "execution_count": 447,
   "metadata": {},
   "outputs": [],
   "source": [
    "#合併流量\n",
    "dd_data=dd_data_h5.append(dd_data_app)\n",
    "#合併事件\n",
    "dd_event1=resp1_evevt.append(test_cc1)\n",
    "dd_event2=resp2_evevt.append(test_cc2)\n",
    "dd_event3=resp3_evevt.append(test_cc3)\n",
    "dd_event4=resp4_evevt.append(test_cc4)"
   ]
  },
  {
   "cell_type": "markdown",
   "metadata": {},
   "source": [
    "#  寫入雲端表格"
   ]
  },
  {
   "cell_type": "code",
   "execution_count": 448,
   "metadata": {},
   "outputs": [],
   "source": [
    "# If modifying these scopes, delete the file token.pickle.\n",
    "SCOPES = ['https://www.googleapis.com/auth/analytics.readonly',\n",
    "      'https://www.googleapis.com/auth/drive',\n",
    "      'https://www.googleapis.com/auth/spreadsheets']\n",
    "creds = None\n",
    "if os.path.exists('token.pickle'):\n",
    "    with open('token.pickle', 'rb') as token:\n",
    "        creds = pickle.load(token)\n",
    "# If there are no (valid) credentials available, let the user log in.\n",
    "if not creds or not creds.valid:\n",
    "    if creds and creds.expired and creds.refresh_token:\n",
    "        creds.refresh(Request())\n",
    "    else:\n",
    "        flow = InstalledAppFlow.from_client_secrets_file(\n",
    "            'credentials.json', SCOPES)\n",
    "        creds = flow.run_local_server(port=0)\n",
    "    # Save the credentials for the next run\n",
    "    with open('token.pickle', 'wb') as token:\n",
    "        pickle.dump(creds, token)\n",
    "service = build('sheets', 'v4', credentials=creds)\n",
    "# Call the Sheets API\n",
    "sheet = service.spreadsheets()\n",
    "\n",
    "#寫入 data 進入 google sheet #美東時間\n",
    "def insert_data(value_range_body,sheetname,colname1,colname2,col1,col2) :\n",
    "    SAMPLE_RANGE_NAME = str(sheetname)+'!'+colname1+str(col1)+':'+colname2+str(col2)\n",
    "    request= sheet.values().update(spreadsheetId=SAMPLE_SPREADSHEET_ID,valueInputOption='USER_ENTERED',range=SAMPLE_RANGE_NAME , body=value_range_body).execute()\n",
    "def google_sheet_insert_data(sheet_name,data,SAMPLE_SPREADSHEET_ID) : \n",
    "    #查詢目前使用到維度\n",
    "    SAMPLE_RANGE_NAME = sheet_name+'!A1:A30000'\n",
    "    result_index = sheet.values().get(spreadsheetId=SAMPLE_SPREADSHEET_ID, range=SAMPLE_RANGE_NAME).execute()\n",
    "    insert_row=len(result_index.get('values'))+1\n",
    "    #遊戲驗證\n",
    "    value_range_body = {\"majorDimension\":\"ROWS\",\"values\": data.values.tolist() }\n",
    "    insert_data(value_range_body,sheet_name,'A','D',insert_row,insert_row+50)\n",
    "    \n",
    "def google_sheet_insert_data_event(sheet_name,data,SAMPLE_SPREADSHEET_ID) : \n",
    "    #查詢目前使用到維度\n",
    "    SAMPLE_RANGE_NAME = sheet_name+'!A1:A70000'\n",
    "    result_index = sheet.values().get(spreadsheetId=SAMPLE_SPREADSHEET_ID, range=SAMPLE_RANGE_NAME).execute()\n",
    "    insert_row=len(result_index.get('values'))+1\n",
    "    #遊戲驗證\n",
    "    value_range_body = {\"majorDimension\":\"ROWS\",\"values\": data.values.tolist() }\n",
    "    insert_data(value_range_body,sheet_name,'A','E',insert_row,insert_row+500)"
   ]
  },
  {
   "cell_type": "code",
   "execution_count": 449,
   "metadata": {},
   "outputs": [],
   "source": [
    "#流量數據\n",
    "SAMPLE_SPREADSHEET_ID = '14OR2-WaGLyZfFpMWbxs_g7sureaZYxCb0XKKMmpMZpU'\n",
    "google_sheet_insert_data('會員數據',dd_data,SAMPLE_SPREADSHEET_ID)\n",
    "#外層事件數據\n",
    "google_sheet_insert_data_event('外层事件',dd_event1,SAMPLE_SPREADSHEET_ID)\n",
    "#內層事件數據\n",
    "google_sheet_insert_data_event('内层事件',dd_event2,SAMPLE_SPREADSHEET_ID)\n",
    "#搜尋事件數據\n",
    "google_sheet_insert_data_event('搜寻栏',dd_event3,SAMPLE_SPREADSHEET_ID)\n",
    "#搜尋事件數據\n",
    "google_sheet_insert_data_event('影片事件',dd_event4,SAMPLE_SPREADSHEET_ID)"
   ]
  },
  {
   "cell_type": "code",
   "execution_count": null,
   "metadata": {},
   "outputs": [],
   "source": []
  },
  {
   "cell_type": "code",
   "execution_count": null,
   "metadata": {},
   "outputs": [],
   "source": [
    "#req = aop.api.UmengUappEventListRequest()\n",
    "#resp = req.get_response(None, appkey=appkey_app_new, startDate=today, endDate=today, perPage=100, page=1, version=\"\")\n",
    "#resp\n",
    "##req = aop.api.UmengUappEventParamListRequest()\n",
    "##resp = req.get_response(None, startDate=today, endDate=today, eventId=\"62df4ce6475da914ef9bbeaf\", appkey=appkey_app_new)\n",
    "##resp"
   ]
  }
 ],
 "metadata": {
  "kernelspec": {
   "display_name": "Python 3",
   "language": "python",
   "name": "python3"
  },
  "language_info": {
   "codemirror_mode": {
    "name": "ipython",
    "version": 3
   },
   "file_extension": ".py",
   "mimetype": "text/x-python",
   "name": "python",
   "nbconvert_exporter": "python",
   "pygments_lexer": "ipython3",
   "version": "3.8.5"
  }
 },
 "nbformat": 4,
 "nbformat_minor": 4
}
