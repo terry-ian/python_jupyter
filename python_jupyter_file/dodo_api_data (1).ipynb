{
 "cells": [
  {
   "cell_type": "code",
   "execution_count": 65,
   "metadata": {},
   "outputs": [],
   "source": [
    "import requests\n",
    "import telepot\n",
    "import datetime\n",
    "import time\n",
    "import pandas as pd\n",
    "import numpy as np\n",
    "from skpy import Skype\n",
    "\n",
    "import string\n",
    "import pickle\n",
    "import os.path\n",
    "from googleapiclient.discovery import build\n",
    "from google_auth_oauthlib.flow import InstalledAppFlow\n",
    "from google.auth.transport.requests import Request"
   ]
  },
  {
   "cell_type": "code",
   "execution_count": 52,
   "metadata": {},
   "outputs": [
    {
     "name": "stdout",
     "output_type": "stream",
     "text": [
      "<Response [200]>\n"
     ]
    }
   ],
   "source": [
    "LOGIN_URL = 'https://admin-api.dd8tvp2.com/login'\n",
    "headers = {'User-Agent': 'Mozilla/5.0 (Windows NT 10.0; Win64; x64) AppleWebKit/537.36 (KHTML, like Gecko) Chrome/84.0.4147.89 Safari/537.36',\n",
    "            'accept-language': 'zh-TW'}\n",
    "payload = {'password': '#qaz&123',\n",
    "            'username': 'torin',}\n",
    "#發送請求登入\n",
    "session_requests = requests.session()\n",
    "response = session_requests.request('POST',url=LOGIN_URL, data=payload, headers=headers)\n",
    "token_aa=response.json()['access_token']\n",
    "print(response)"
   ]
  },
  {
   "cell_type": "code",
   "execution_count": 53,
   "metadata": {},
   "outputs": [],
   "source": [
    "#取得 token\n",
    "headerss = {'User-Agent': 'Mozilla/5.0 (Windows NT 10.0; Win64; x64) AppleWebKit/537.36 (KHTML, like Gecko) Chrome/84.0.4147.89 Safari/537.36',\n",
    "            'accept-language': 'zh-TW','authorization':'Bearer '+token_aa}\n",
    "#抓取总页数\n",
    "ttt = session_requests.get(\"https://admin-api.dd8tvp2.com/video?site_code=doudou&page=1&count=1\" , headers=headerss )\n",
    "total_count=ttt.json()['paging']['total']\n",
    "total_count=int(total_count)"
   ]
  },
  {
   "cell_type": "code",
   "execution_count": 54,
   "metadata": {},
   "outputs": [],
   "source": [
    "list_data_all=[]\n",
    "for j in range(1,int(total_count/100)+2,1): \n",
    "    ttt1 = session_requests.get(\"https://admin-api.dd8tvp2.com/video?site_code=doudou&page=\"+str(j)+\"&count=100\" , headers=headerss )\n",
    "    output_data=ttt1.json()['data']\n",
    "    list_data_all=list_data_all+output_data"
   ]
  },
  {
   "cell_type": "code",
   "execution_count": 61,
   "metadata": {},
   "outputs": [],
   "source": [
    "df_dodo_data=pd.DataFrame(list_data_all)[['lib_video_id','title','title_en','category_name','play','favorite','type','price','buy','update_at']]\n",
    "df_dodo_data['type_price']=df_dodo_data['type'].map({1: 'VIP观影限定',0:'免费'})\n",
    "df_dodo_data=df_dodo_data[['lib_video_id','title','title_en','category_name','play','favorite','type_price','price','buy','update_at']]\n",
    "df_dodo_data.columns=['片庫編號','A片名','番號','主題','播放數','收藏數','收費方式','價格','購買數','更新時間']\n",
    "df_dodo_data=df_dodo_data.sort_values(by=['播放數'], ascending=False)"
   ]
  },
  {
   "cell_type": "code",
   "execution_count": null,
   "metadata": {},
   "outputs": [],
   "source": []
  },
  {
   "cell_type": "code",
   "execution_count": 69,
   "metadata": {},
   "outputs": [],
   "source": [
    "# If modifying these scopes, delete the file token.pickle.\n",
    "SCOPES = ['https://www.googleapis.com/auth/analytics.readonly','https://www.googleapis.com/auth/drive','https://www.googleapis.com/auth/spreadsheets']\n",
    "creds = None\n",
    "if os.path.exists('token.pickle'):\n",
    "    with open('token.pickle', 'rb') as token:\n",
    "        creds = pickle.load(token)\n",
    "# If there are no (valid) credentials available, let the user log in.\n",
    "if not creds or not creds.valid:\n",
    "    if creds and creds.expired and creds.refresh_token:\n",
    "        creds.refresh(Request())\n",
    "    else:\n",
    "        flow = InstalledAppFlow.from_client_secrets_file(\n",
    "            'credentials.json', SCOPES)\n",
    "        creds = flow.run_local_server(port=0)\n",
    "    # Save the credentials for the next run\n",
    "    with open('token.pickle', 'wb') as token:\n",
    "        pickle.dump(creds, token)\n",
    "service = build('sheets', 'v4', credentials=creds)\n",
    "# Call the Sheets API\n",
    "sheet = service.spreadsheets()\n",
    "#寫入 data 進入 google sheet #美東時間\n",
    "def insert_data(value_range_body,sheetname,colname1,colname2,col1,col2) :\n",
    "    SAMPLE_RANGE_NAME = str(sheetname)+'!'+colname1+str(col1)+':'+colname2+str(col2)\n",
    "    request= sheet.values().update(spreadsheetId=SAMPLE_SPREADSHEET_ID,valueInputOption='USER_ENTERED',range=SAMPLE_RANGE_NAME , body=value_range_body).execute()\n",
    "def clear_data(sheetname,colname1,colname2,col1,col2):\n",
    "    SAMPLE_RANGE_NAME = str(sheetname)+'!'+colname1+str(col1)+':'+colname2+str(col2)\n",
    "    request = sheet.values().clear(spreadsheetId=SAMPLE_SPREADSHEET_ID, range=SAMPLE_RANGE_NAME).execute() #, body=value_range_body\n",
    "\n",
    "#Boin data insert\n",
    "SAMPLE_SPREADSHEET_ID = '1VZku3NyOO37b2MgGPCjNIrscYki2XmyR9QfN9yBLalo'\n",
    "clear_data('豆豆后台','A','J',2,10000)\n",
    "value_range_body = {\"majorDimension\":\"ROWS\",\"values\": df_dodo_data.to_dict('split')['data'] } \n",
    "insert_data(value_range_body,'豆豆后台','A','J',2,10000)"
   ]
  },
  {
   "cell_type": "code",
   "execution_count": null,
   "metadata": {},
   "outputs": [],
   "source": []
  },
  {
   "cell_type": "code",
   "execution_count": 50,
   "metadata": {},
   "outputs": [
    {
     "name": "stderr",
     "output_type": "stream",
     "text": [
      "Calling close() on already closed file.\n"
     ]
    }
   ],
   "source": [
    "##數據輸出\n",
    "#downloadpath = '//navdi/DEM_UserData/btorin/Desktop/fanza_data/'\n",
    "#with pd.ExcelWriter(downloadpath+\"dodo_video.xlsx\" ) as dodo_video: #, index=False\n",
    "#    df_dodo_data.to_excel(dodo_video, sheet_name=\"data\", index=False)\n",
    "#    dodo_video.save()"
   ]
  },
  {
   "cell_type": "code",
   "execution_count": 15,
   "metadata": {},
   "outputs": [],
   "source": [
    "#sk.chats.recent() \n",
    "#sk.chats.chat('19:4f608eb0d3564058911ccc1961edd76a@thread.skype').sendFile(open(\"song.mp3\", \"rb\"), \"song.mp3\") "
   ]
  }
 ],
 "metadata": {
  "kernelspec": {
   "display_name": "Python 3",
   "language": "python",
   "name": "python3"
  },
  "language_info": {
   "codemirror_mode": {
    "name": "ipython",
    "version": 3
   },
   "file_extension": ".py",
   "mimetype": "text/x-python",
   "name": "python",
   "nbconvert_exporter": "python",
   "pygments_lexer": "ipython3",
   "version": "3.8.5"
  }
 },
 "nbformat": 4,
 "nbformat_minor": 4
}
